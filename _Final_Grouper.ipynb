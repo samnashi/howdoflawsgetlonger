{
 "cells": [
  {
   "cell_type": "code",
   "execution_count": null,
   "metadata": {
    "collapsed": true
   },
   "outputs": [],
   "source": [
    "from corpus_characterizer import generator_chunker\n",
    "import numpy as np\n",
    "import os\n",
    "# from sklearn.metrics import mean_squared_error,mean_absolute_error, median_absolute_error, mean_squared_log_error, explained_variance_score, r2_score\n",
    "from sklearn.metrics import mean_squared_error, mean_absolute_error, median_absolute_error, explained_variance_score, \\\n",
    "    r2_score\n",
    "import pandas as pd\n",
    "from scipy.stats import describe, kurtosistest, skewtest, normaltest\n",
    "from Conv1D_LSTM_Ensemble import pair_generator_1dconv_lstm_bagged\n",
    "from Conv1D_ActivationSearch_BigLoop import pair_generator_1dconv_lstm #NOT BAGGED\n",
    "from AuxRegressor import create_testing_set, create_training_set\n",
    "import matplotlib.pyplot as plt \n"
   ]
  }
 ],
 "metadata": {
  "kernelspec": {
   "display_name": "Python 2",
   "language": "python",
   "name": "python2"
  },
  "language_info": {
   "codemirror_mode": {
    "name": "ipython",
    "version": 2
   },
   "file_extension": ".py",
   "mimetype": "text/x-python",
   "name": "python",
   "nbconvert_exporter": "python",
   "pygments_lexer": "ipython2",
   "version": "2.7.12"
  }
 },
 "nbformat": 4,
 "nbformat_minor": 2
}
