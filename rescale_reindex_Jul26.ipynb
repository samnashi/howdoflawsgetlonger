{
 "cells": [
  {
   "cell_type": "code",
   "execution_count": 2,
   "metadata": {},
   "outputs": [
    {
     "name": "stdout",
     "output_type": "stream",
     "text": [
      "<type 'list'>\n",
      "['crack_growth_sequence1c_0.csv', 'crack_growth_sequence1c_1.csv', 'crack_growth_sequence1c_2.csv', 'crack_growth_sequence1c_3.csv', 'crack_growth_sequence1c_4.csv', 'crack_growth_sequence1c_5.csv']\n"
     ]
    }
   ],
   "source": [
    "import pandas as pd \n",
    "import numpy as np \n",
    "import os \n",
    "import json \n",
    "import matplotlib.pyplot as plt\n",
    "#from sklearn.preprocessing import \n",
    "\n",
    "#raw_path = \"/home/ihsan/Documents/thesis_generator/results/devin/to_process/\" #needs the absolute path, no tildes! \n",
    "#processed_path = \"/home/ihsan/Documents/thesis_generator/results/devin\"\n",
    "\n",
    "#usb drive\n",
    "#raw_path = '/media/ihsan/LID_FLASH_1/Thesis/thesis_generator/results/run_2/'\n",
    "\n",
    "raw_path = \"/home/ihsan/Documents/thesis_generator/results/to_process/\"\n",
    "\n",
    "processed_path = \"/home/ihsan/Documents/thesis_models/unsplit\"\n",
    "#processed_path = '/media/ihsan/LID_FLASH_1/Thesis/thesis_generator/results/run_2/processed/'\n",
    "items = os.listdir(raw_path)\n",
    "items.sort()\n",
    "print(type(items))\n",
    "for file in items:\n",
    "    if ('.csv') not in str(file):\n",
    "        del items[items.index(file)]   \n",
    "print(items)\n",
    "\n",
    "seq_length_dict = {}\n",
    "seq_length_dict_filename = processed_path + \"/sequence_lengths.json\"\n",
    "#suffix = \"3a\"\n",
    "#csv_path = \"~/Documents/thesis_generator/results/devin/crack_growth_sequence\" + suffix + \".csv\"\n",
    "sequence_lengths = {} #save sequence lengths as a dict. or maybe a json?"
   ]
  },
  {
   "cell_type": "code",
   "execution_count": 5,
   "metadata": {},
   "outputs": [
    {
     "name": "stdout",
     "output_type": "stream",
     "text": [
      "crack_growth_sequence1c_0.csv\n",
      "file crack_growth_sequence1c_0.csv's indices_offset_min1 [-1, 83554, 167163, 250704, 334236, 417787, 501302, 584803, 668284, 751817, 835270]\n",
      "indices: [0, 83555, 167164, 250705, 334237, 417788, 501303, 584804, 668285, 751818, 835271], indices_offset_min1: [83554, 167163, 250704, 334236, 417787, 501302, 584803, 668284, 751817, 835270]\n",
      "\n",
      "after changing :[(0, 83554), (83555, 167163), (167164, 250704), (250705, 334236), (334237, 417787), (417788, 501302), (501303, 584803), (584804, 668284), (668285, 751817), (751818, 835270)] \n",
      "lengths: [83554, 83608, 83540, 83531, 83550, 83514, 83500, 83480, 83532, 83452] \n"
     ]
    }
   ],
   "source": [
    "file = items[0]\n",
    "\n",
    "print(str(file))\n",
    "csv_path = raw_path + str(file)\n",
    "if (\"_0.\") in str(file): #only the first file in the series has a header. \n",
    "    cg_seq_df = pd.read_csv(csv_path)\n",
    "    header_names = cg_seq_df.columns.values\n",
    "else:\n",
    "    cg_seq_df = pd.read_csv(csv_path,names=header_names)\n",
    "    print(cg_seq_df.columns.values)\n",
    "\n",
    "train_list = ['StepIndex','delta_K_current_1','crack_length_1','delta_K_current_2','crack_length_2',\n",
    "      'delta_K_current_3','crack_length_3','delta_K_current_4','crack_length_4','Load_1','Load_2'] #and seq_id,somehow \n",
    "\n",
    "label_list = ['StepIndex','delta_a_current_1','delta_a_current_2','delta_a_current_3','delta_a_current_4']\n",
    "\n",
    "train_df = cg_seq_df[train_list]\n",
    "\n",
    "label_train_df = cg_seq_df[label_list]\n",
    "\n",
    "#labels_csv_path = \"~/Documents/thesis_generator/results/devin/label\" + suffix + \"_headers\"+ \".csv\"\n",
    "#train_csv_path = \"~/Documents/thesis_generator/results/devin/train\" + suffix + \"_headers\" + \".csv\"\n",
    "\n",
    "indices = train_df[train_df['StepIndex']==1].index.tolist()\n",
    "indices.append(train_df.shape[0]-1)\n",
    "indices_offset_min1 = [i-1 for i in indices]\n",
    "print(\"file {}'s indices_offset_min1 {}\".format(str(file),indices_offset_min1))\n",
    "indices_offset_min1.pop(0)\n",
    "print(\"indices: {}, indices_offset_min1: {}\".format(indices,indices_offset_min1))\n",
    "\n",
    "ranges = [(t,s) for t,s in zip(indices,indices_offset_min1)]\n",
    "#print(\"before changing :{}\".format(ranges))\n",
    "'''for tuple in ranges:\n",
    "    print(tuple)\n",
    "    tuple[1:][0] = (tuple[1:][0]) + 1'''\n",
    "\n",
    "#ranges[1:][0] = ranges[1:][0] + 1\n",
    "print(\"\\nafter changing :{} \".format(ranges))\n",
    "#print(\"lengths: {} \".format([indices[4]-indices[3],indices[3]-indices[2],indices[2]-indices[1],indices[1]-indices[0]]))\n",
    "print(\"lengths: {} \".format([t-s for (s,t) in ranges]))\n"
   ]
  },
  {
   "cell_type": "code",
   "execution_count": 12,
   "metadata": {
    "scrolled": false
   },
   "outputs": [
    {
     "name": "stderr",
     "output_type": "stream",
     "text": [
      "/usr/local/lib/python2.7/dist-packages/ipykernel_launcher.py:16: SettingWithCopyWarning: \n",
      "A value is trying to be set on a copy of a slice from a DataFrame.\n",
      "Try using .loc[row_indexer,col_indexer] = value instead\n",
      "\n",
      "See the caveats in the documentation: http://pandas.pydata.org/pandas-docs/stable/indexing.html#indexing-view-versus-copy\n",
      "  app.launch_new_instance()\n"
     ]
    },
    {
     "name": "stdout",
     "output_type": "stream",
     "text": [
      "<class 'pandas.core.frame.DataFrame'>\n",
      "RangeIndex: 72 entries, 27300 to 27371\n",
      "Data columns (total 12 columns):\n",
      "StepIndex            72 non-null int64\n",
      "delta_K_current_1    72 non-null float64\n",
      "crack_length_1       72 non-null float64\n",
      "delta_K_current_2    72 non-null float64\n",
      "crack_length_2       72 non-null float64\n",
      "delta_K_current_3    72 non-null float64\n",
      "crack_length_3       72 non-null float64\n",
      "delta_K_current_4    72 non-null float64\n",
      "crack_length_4       72 non-null float64\n",
      "Load_1               72 non-null float64\n",
      "Load_2               72 non-null float64\n",
      "percent_damage       72 non-null float64\n",
      "dtypes: float64(11), int64(1)\n",
      "memory usage: 6.8 KB\n",
      "(       StepIndex  delta_K_current_1  crack_length_1  delta_K_current_2  \\\n",
      "27300      27301           7.841846        0.147205           7.968595   \n",
      "27301      27302           9.142090        0.147206           8.740580   \n",
      "\n",
      "       crack_length_2  delta_K_current_3  crack_length_3  delta_K_current_4  \\\n",
      "27300        0.147089           7.851458        0.147137           8.614037   \n",
      "27301        0.147091           9.735136        0.147139           8.533978   \n",
      "\n",
      "       crack_length_4  Load_1  Load_2  percent_damage  \n",
      "27300        0.134824   1.428   14.28       58.881807  \n",
      "27301        0.134826  14.280    1.00       58.882526  , RangeIndex(start=27300, stop=27372, step=1), None)\n"
     ]
    },
    {
     "data": {
      "image/png": "[encoded data removed]",
      "text/plain": [
       "<matplotlib.figure.Figure at 0x7f5a0bfbbe50>"
      ]
     },
     "metadata": {},
     "output_type": "display_data"
    },
    {
     "name": "stdout",
     "output_type": "stream",
     "text": [
      "['StepIndex' 'delta_K_current_1' 'crack_length_1' 'delta_K_current_2'\n",
      " 'crack_length_2' 'delta_K_current_3' 'crack_length_3' 'delta_K_current_4'\n",
      " 'crack_length_4' 'Load_1' 'Load_2' 'percent_damage']\n",
      "after changing: ['StepIndex' 'percent_damage' 'delta_K_current_1' 'crack_length_1'\n",
      " 'delta_K_current_2' 'crack_length_2' 'delta_K_current_3' 'crack_length_3'\n",
      " 'delta_K_current_4' 'crack_length_4' 'Load_1' 'Load_2']\n",
      "after dropping StepIndex: ['percent_damage' 'delta_K_current_1' 'crack_length_1' 'delta_K_current_2'\n",
      " 'crack_length_2' 'delta_K_current_3' 'crack_length_3' 'delta_K_current_4'\n",
      " 'crack_length_4' 'Load_1' 'Load_2'], RangeIndex(start=27300, stop=27372, step=1)\n",
      "         StepIndex  delta_a_current_1  delta_a_current_2  delta_a_current_3  \\\n",
      "count  83608.00000       83608.000000       83608.000000       83608.000000   \n",
      "mean   41804.50000           0.000004           0.000004           0.000006   \n",
      "std    24135.69499           0.000003           0.000003           0.000005   \n",
      "min        1.00000           0.000000           0.000000           0.000000   \n",
      "25%    20902.75000           0.000001           0.000001           0.000001   \n",
      "50%    41804.50000           0.000003           0.000003           0.000005   \n",
      "75%    62706.25000           0.000007           0.000007           0.000008   \n",
      "max    83608.00000           0.000018           0.000016           0.000038   \n",
      "\n",
      "       delta_a_current_4  \n",
      "count       83608.000000  \n",
      "mean            0.000006  \n",
      "std             0.000005  \n",
      "min             0.000000  \n",
      "25%             0.000001  \n",
      "50%             0.000005  \n",
      "75%             0.000008  \n",
      "max             0.000041  \n",
      "delta_a_current_1    0.000004\n",
      "dtype: float64\n"
     ]
    }
   ],
   "source": [
    "plt.clf()\n",
    "plt.close()\n",
    "#take a subset and play \n",
    "#print(ranges[0][0],ranges[0][1])\n",
    "#train_df_play = train_df[0:27372]\n",
    "train_df_play = train_df[27300:27372]\n",
    "label_df_play = label_train_df[83555:167163]\n",
    "#print(train_df_play.head(1))\n",
    "#train_df_play=train_df_play.applymap(np.log)\n",
    "#print(train_df_play.head(1),train_df_play.index,train_df_play.info())\n",
    "\n",
    "threshold = 0.25\n",
    "#longest_crack = \n",
    "#print(longest_crack)\n",
    "#print(train_df_play[['crack_length_1','crack_length_2','crack_length_3','crack_length_4']].max(axis=1))\n",
    "train_df_play['percent_damage'] = train_df_play[['crack_length_1','crack_length_2','crack_length_3','crack_length_4']].max(axis=1)/threshold * 100\n",
    "print(train_df_play.head(2),train_df_play.index,train_df_play.info())\n",
    "\n",
    "train_df_play.plot(x='StepIndex',y='percent_damage')\n",
    "plt.show()\n",
    "\n",
    "list_cols = train_df_play.columns.values\n",
    "print(list_cols)\n",
    "\n",
    "train_df_play = train_df_play[['StepIndex', 'percent_damage','delta_K_current_1','crack_length_1','delta_K_current_2',\n",
    " 'crack_length_2','delta_K_current_3','crack_length_3','delta_K_current_4',\n",
    "                              'crack_length_4','Load_1','Load_2']]\n",
    "print(\"after changing: {}\".format(train_df_play.columns.values))\n",
    "train_df_play.to_csv('/home/ihsan/Documents/thesis_models/with_stepindex.csv')\n",
    "train_df_play_dropped_stepindex = train_df_play[['percent_damage','delta_K_current_1','crack_length_1','delta_K_current_2',\n",
    " 'crack_length_2','delta_K_current_3','crack_length_3','delta_K_current_4',\n",
    "                              'crack_length_4','Load_1','Load_2']]\n",
    "print(\"after dropping StepIndex: {}, {}\".format(train_df_play_dropped_stepindex.columns.values,train_df_play_dropped_stepindex.index))\n",
    "#print(label_df_play[['delta_a_current_1','delta_a_current_2','delta_a_current_3','delta_a_current_4']].info())\n",
    "print(label_df_play.describe())\n",
    "print(label_df_play[['delta_a_current_1']].mean())\n",
    "#train_df_play_dropped_stepindex.to_csv('/home/ihsan/Documents/thesis_models/without_stepindex.csv')"
   ]
  },
  {
   "cell_type": "code",
   "execution_count": null,
   "metadata": {
    "collapsed": true
   },
   "outputs": [],
   "source": [
    "i = 0\n",
    "for indices_as_tuples in ranges:\n",
    "    i=i+1\n",
    "    print(\"indices as tuples: {}\".format(indices_as_tuples))\n",
    "    train_df_as_np_array = train_df[indices_as_tuples[0]:indices_as_tuples[1]].values\n",
    "    label_train_df_as_np_array = label_train_df[indices_as_tuples[0]:indices_as_tuples[1]].values\n",
    "    print(\"df_as_np_array shape: {}\".format(train_df_as_np_array.shape))\n",
    "    print(\"file: {}\".format(file))\n",
    "    identifier = str(str(file)[-8:-6]) #eg 1a 2a etc. #you can use a regex. \n",
    "    print(\"identifier: {}\".format(identifier))\n",
    "\n",
    "    #j is sequence id. #i is the sequence number within the csv. \n",
    "    np_train_path = processed_path + \"/sequence_\" + identifier + \"_\" + str(j) + \"_\" + str(i) + \".npy\"\n",
    "    np_label_train_path = processed_path + \"/sequence_\" + identifier + \"_\" + str(j) + \"_\" + str(i) + \"_label_.npy\"\n",
    "    seq_length_dict[\"sequence_\" + identifier + \"_\" + str(j) + \"_\" + str(i)] = indices_as_tuples[1] - indices_as_tuples[0]\n",
    "    #seq_length_dict = json.load(open(seq_length_dict))\n",
    "    #UNCOMMENT THESE IF YOU WANT TO SAVETHE ARRAYS!!!\n",
    "    print(\"np_train_path: {}\".format(np_train_path))\n",
    "    print(\"np_label_train_path :{}\".format(np_label_train_path))\n",
    "    #np.save(np_train_path,train_df_as_np_array)\n",
    "    #np.save(np_label_train_path,label_train_df_as_np_array)\n",
    "    j= j + 1\n",
    "        \n",
    "print(seq_length_dict)\n",
    "json.dump(seq_length_dict, open(seq_length_dict_filename, 'wb'))"
   ]
  }
 ],
 "metadata": {
  "kernelspec": {
   "display_name": "Python 2",
   "language": "python",
   "name": "python2"
  },
  "language_info": {
   "codemirror_mode": {
    "name": "ipython",
    "version": 2
   },
   "file_extension": ".py",
   "mimetype": "text/x-python",
   "name": "python",
   "nbconvert_exporter": "python",
   "pygments_lexer": "ipython2",
   "version": "2.7.12"
  }
 },
 "nbformat": 4,
 "nbformat_minor": 2
}
