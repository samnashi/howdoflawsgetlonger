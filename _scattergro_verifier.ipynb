{
 "cells": [
  {
   "cell_type": "code",
   "execution_count": 1,
   "metadata": {},
   "outputs": [
    {
     "name": "stdout",
     "output_type": "stream",
     "text": [
      "('sequence shape: ', (97201, 11), 'label shape: ', (97201, 5))\n"
     ]
    }
   ],
   "source": [
    "import pandas as pd\n",
    "import numpy as np\n",
    "\n",
    "# @@@@@@@@@@@@@@ RELATIVE PATHS @@@@@@@@@@@@@@@@@@@@@@@@@@@@@@@@@@@@@@@\n",
    "Base_Path = \"./\"\n",
    "image_path = \"./images/\"\n",
    "train_path = \"./train/\"\n",
    "test_path = \"./test/\"\n",
    "analysis_path = \"./analysis/\"\n",
    "models_path = analysis_path + \"models_to_load/\"\n",
    "results_path = analysis_path + \"model_loader_results/\"\n",
    "stats_tests_path = analysis_path + 'stats_tests/'\n",
    "#@@@@@@@@@@@@@@@@@@@@@@@@@@@@@@@@@@@@@@@@@@@@@@@@@@@@@@@@@@@@@@@@@@@@@@\n",
    "\n",
    "sequence = np.load(test_path + '/data/sequence_1b_59_10_fv1c.npy')\n",
    "label = np.load(test_path + '/label/sequence_1b_59_10_label_fv1c.npy')\n",
    "print('sequence shape: ',sequence.shape, 'label shape: ', label.shape)"
   ]
  },
  {
   "cell_type": "code",
   "execution_count": 2,
   "metadata": {},
   "outputs": [
    {
     "name": "stdout",
     "output_type": "stream",
     "text": [
      "[]\n",
      "[]\n"
     ]
    }
   ],
   "source": [
    "        #    train_list = ['StepIndex','percent_damage','delta_K_current_1','ctip_posn_curr_1','delta_K_current_2','ctip_posn_curr_2',\n",
    "          #'delta_K_current_3','ctip_posn_curr_3','delta_K_current_4','ctip_posn_curr_4','Load_1','Load_2']\n",
    "print(sequence[100000:100100,[2,4,6,8]])\n",
    "print(label[100000:100100,:])"
   ]
  },
  {
   "cell_type": "code",
   "execution_count": 3,
   "metadata": {},
   "outputs": [
    {
     "name": "stdout",
     "output_type": "stream",
     "text": [
      "    0    1         2    3         4    5         6    7         8      9   \\\n",
      "0  5.0  0.0  0.490625  0.0  1.365625  0.0  1.415625  0.0  2.253125  1.428   \n",
      "\n",
      "      10  \n",
      "0  12.28  \n"
     ]
    }
   ],
   "source": [
    "sequence_df = pd.DataFrame(sequence)\n",
    "label_df = pd.DataFrame(label)\n",
    "print(sequence_df.head(1))\n",
    "sequence_df.to_csv(stats_tests_path + 'ref_array.csv')\n",
    "label_df.to_csv(stats_tests_path + 'ref_target.csv')"
   ]
  },
  {
   "cell_type": "code",
   "execution_count": null,
   "metadata": {
    "collapsed": true
   },
   "outputs": [],
   "source": []
  }
 ],
 "metadata": {
  "kernelspec": {
   "display_name": "Python 2",
   "language": "python",
   "name": "python2"
  },
  "language_info": {
   "codemirror_mode": {
    "name": "ipython",
    "version": 2
   },
   "file_extension": ".py",
   "mimetype": "text/x-python",
   "name": "python",
   "nbconvert_exporter": "python",
   "pygments_lexer": "ipython2",
   "version": "2.7.12"
  }
 },
 "nbformat": 4,
 "nbformat_minor": 2
}
