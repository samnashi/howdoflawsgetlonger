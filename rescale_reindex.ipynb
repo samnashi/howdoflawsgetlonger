{
 "cells": [
  {
   "cell_type": "code",
   "execution_count": 1,
   "metadata": {},
   "outputs": [
    {
     "name": "stdout",
     "output_type": "stream",
     "text": [
      "<type 'list'>\n",
      "['crack_growth_sequence_1b_0.csv', 'crack_growth_sequence_1b_1.csv', 'crack_growth_sequence_1b_2.csv', 'crack_growth_sequence_1b_3.csv', 'crack_growth_sequence_1b_4.csv', 'crack_growth_sequence_1b_5.csv', 'crack_growth_sequence_2b_0.csv', 'crack_growth_sequence_2b_1.csv', 'crack_growth_sequence_2b_2.csv', 'crack_growth_sequence_2b_3.csv', 'crack_growth_sequence_2b_4.csv', 'crack_growth_sequence_2b_5.csv', 'crack_growth_sequence_2c_0.csv', 'crack_growth_sequence_2c_1.csv', 'crack_growth_sequence_2c_2.csv', 'crack_growth_sequence_2c_3.csv', 'crack_growth_sequence_2c_4.csv', 'crack_growth_sequence_2c_5.csv']\n"
     ]
    }
   ],
   "source": [
    "import pandas as pd \n",
    "import numpy as np \n",
    "import os \n",
    "import json \n",
    "import matplotlib.pyplot as plt\n",
    "\n",
    "#raw_path = \"/home/ihsan/Documents/thesis_generator/results/devin/to_process/\" #needs the absolute path, no tildes! \n",
    "#processed_path = \"/home/ihsan/Documents/thesis_generator/results/devin\"\n",
    "\n",
    "#usb drive\n",
    "#raw_path = '/media/ihsan/LID_FLASH_1/Thesis/thesis_generator/results/run_2/'\n",
    "\n",
    "raw_path = \"/home/ihsan/Documents/thesis_generator/results/to_process/\"\n",
    "\n",
    "processed_path = \"/home/ihsan/Documents/thesis_models/unsplit\"\n",
    "#processed_path = '/media/ihsan/LID_FLASH_1/Thesis/thesis_generator/results/run_2/processed/'\n",
    "items = os.listdir(raw_path)\n",
    "items.sort()\n",
    "print(type(items))\n",
    "for file in items:\n",
    "    if ('.csv') not in str(file):\n",
    "        del items[items.index(file)]   \n",
    "print(items)\n",
    "\n",
    "seq_length_dict = {}\n",
    "seq_length_dict_filename = processed_path + \"/sequence_lengths.json\"\n",
    "#suffix = \"3a\"\n",
    "#csv_path = \"~/Documents/thesis_generator/results/devin/crack_growth_sequence\" + suffix + \".csv\"\n",
    "sequence_lengths = {} #save sequence lengths as a dict. or maybe a json?"
   ]
  },
  {
   "cell_type": "code",
   "execution_count": 2,
   "metadata": {},
   "outputs": [
    {
     "name": "stdout",
     "output_type": "stream",
     "text": [
      "crack_growth_sequence_1b_0.csv\n",
      "file crack_growth_sequence_1b_0.csv's indices_offset_min1 [-1, 27372, 54812, 82119, 109504, 136915, 164224, 191591, 218998, 246361, 273743]\n",
      "indices: [0, 27373, 54813, 82120, 109505, 136916, 164225, 191592, 218999, 246362, 273744], indices_offset_min1: [27372, 54812, 82119, 109504, 136915, 164224, 191591, 218998, 246361, 273743]\n",
      "\n",
      "after changing :[(0, 27372), (27373, 54812), (54813, 82119), (82120, 109504), (109505, 136915), (136916, 164224), (164225, 191591), (191592, 218998), (218999, 246361), (246362, 273743)] \n",
      "lengths: [27372, 27439, 27306, 27384, 27410, 27308, 27366, 27406, 27362, 27381] \n"
     ]
    }
   ],
   "source": [
    "file = items[0]\n",
    "\n",
    "print(str(file))\n",
    "csv_path = raw_path + str(file)\n",
    "if (\"_0.\") in str(file): #only the first file in the series has a header. \n",
    "    cg_seq_df = pd.read_csv(csv_path)\n",
    "    header_names = cg_seq_df.columns.values\n",
    "else:\n",
    "    cg_seq_df = pd.read_csv(csv_path,names=header_names)\n",
    "    print(cg_seq_df.columns.values)\n",
    "\n",
    "train_list = ['StepIndex','delta_K_current_1','crack_length_1','delta_K_current_2','crack_length_2',\n",
    "      'delta_K_current_3','crack_length_3','delta_K_current_4','crack_length_4','Load_1','Load_2'] #and seq_id,somehow \n",
    "\n",
    "label_list = ['StepIndex','delta_a_current_1','delta_a_current_2','delta_a_current_3','delta_a_current_4']\n",
    "\n",
    "train_df = cg_seq_df[train_list]\n",
    "\n",
    "label_train_df = cg_seq_df[label_list]\n",
    "\n",
    "#labels_csv_path = \"~/Documents/thesis_generator/results/devin/label\" + suffix + \"_headers\"+ \".csv\"\n",
    "#train_csv_path = \"~/Documents/thesis_generator/results/devin/train\" + suffix + \"_headers\" + \".csv\"\n",
    "\n",
    "indices = train_df[train_df['StepIndex']==1].index.tolist()\n",
    "indices.append(train_df.shape[0]-1)\n",
    "indices_offset_min1 = [i-1 for i in indices]\n",
    "print(\"file {}'s indices_offset_min1 {}\".format(str(file),indices_offset_min1))\n",
    "indices_offset_min1.pop(0)\n",
    "print(\"indices: {}, indices_offset_min1: {}\".format(indices,indices_offset_min1))\n",
    "\n",
    "ranges = [(t,s) for t,s in zip(indices,indices_offset_min1)]\n",
    "#print(\"before changing :{}\".format(ranges))\n",
    "'''for tuple in ranges:\n",
    "    print(tuple)\n",
    "    tuple[1:][0] = (tuple[1:][0]) + 1'''\n",
    "\n",
    "#ranges[1:][0] = ranges[1:][0] + 1\n",
    "print(\"\\nafter changing :{} \".format(ranges))\n",
    "#print(\"lengths: {} \".format([indices[4]-indices[3],indices[3]-indices[2],indices[2]-indices[1],indices[1]-indices[0]]))\n",
    "print(\"lengths: {} \".format([t-s for (s,t) in ranges]))\n"
   ]
  },
  {
   "cell_type": "code",
   "execution_count": 4,
   "metadata": {
    "scrolled": false
   },
   "outputs": [
    {
     "name": "stderr",
     "output_type": "stream",
     "text": [
      "/usr/local/lib/python2.7/dist-packages/ipykernel_launcher.py:15: SettingWithCopyWarning: \n",
      "A value is trying to be set on a copy of a slice from a DataFrame.\n",
      "Try using .loc[row_indexer,col_indexer] = value instead\n",
      "\n",
      "See the caveats in the documentation: http://pandas.pydata.org/pandas-docs/stable/indexing.html#indexing-view-versus-copy\n",
      "  from ipykernel import kernelapp as app\n"
     ]
    },
    {
     "name": "stdout",
     "output_type": "stream",
     "text": [
      "<class 'pandas.core.frame.DataFrame'>\n",
      "RangeIndex: 72 entries, 27300 to 27371\n",
      "Data columns (total 12 columns):\n",
      "StepIndex            72 non-null int64\n",
      "delta_K_current_1    72 non-null float64\n",
      "crack_length_1       72 non-null float64\n",
      "delta_K_current_2    72 non-null float64\n",
      "crack_length_2       72 non-null float64\n",
      "delta_K_current_3    72 non-null float64\n",
      "crack_length_3       72 non-null float64\n",
      "delta_K_current_4    72 non-null float64\n",
      "crack_length_4       72 non-null float64\n",
      "Load_1               72 non-null float64\n",
      "Load_2               72 non-null float64\n",
      "percent_damage       72 non-null float64\n",
      "dtypes: float64(11), int64(1)\n",
      "memory usage: 6.8 KB\n",
      "(       StepIndex  delta_K_current_1  crack_length_1  delta_K_current_2  \\\n",
      "27300      27301           7.966364        0.147387           7.949342   \n",
      "27301      27302           9.221943        0.147389          10.226849   \n",
      "\n",
      "       crack_length_2  delta_K_current_3  crack_length_3  delta_K_current_4  \\\n",
      "27300        0.146759           7.988433        0.147266           7.630361   \n",
      "27301        0.146761           8.417816        0.147267           7.618345   \n",
      "\n",
      "       crack_length_4  Load_1  Load_2  percent_damage  \n",
      "27300        0.134675   1.428   14.28       58.954757  \n",
      "27301        0.134676  14.280    1.00       58.955489  , RangeIndex(start=27300, stop=27372, step=1), None)\n"
     ]
    },
    {
     "data": {
      "image/png": "[encoded data removed]",
      "text/plain": [
       "<matplotlib.figure.Figure at 0x7f42fd5ea9d0>"
      ]
     },
     "metadata": {},
     "output_type": "display_data"
    }
   ],
   "source": [
    "plt.clf()\n",
    "plt.close()\n",
    "#take a subset and play \n",
    "#print(ranges[0][0],ranges[0][1])\n",
    "train_df_play = train_df[0:27372]\n",
    "train_df_play = train_df[27300:27372]\n",
    "#print(train_df_play.head(1))\n",
    "#train_df_play=train_df_play.applymap(np.log)\n",
    "#print(train_df_play.head(1),train_df_play.index,train_df_play.info())\n",
    "\n",
    "threshold = 0.25\n",
    "#longest_crack = \n",
    "#print(longest_crack)\n",
    "#print(train_df_play[['crack_length_1','crack_length_2','crack_length_3','crack_length_4']].max(axis=1))\n",
    "train_df_play['percent_damage'] = train_df_play[['crack_length_1','crack_length_2','crack_length_3','crack_length_4']].max(axis=1)/threshold * 100\n",
    "print(train_df_play.head(2),train_df_play.index,train_df_play.info())\n",
    "\n",
    "train_df_play.plot(x='StepIndex',y='percent_damage')\n",
    "plt.show()"
   ]
  },
  {
   "cell_type": "code",
   "execution_count": null,
   "metadata": {
    "collapsed": true
   },
   "outputs": [],
   "source": [
    "i = 0\n",
    "for indices_as_tuples in ranges:\n",
    "    i=i+1\n",
    "    print(\"indices as tuples: {}\".format(indices_as_tuples))\n",
    "    train_df_as_np_array = train_df[indices_as_tuples[0]:indices_as_tuples[1]].values\n",
    "    label_train_df_as_np_array = label_train_df[indices_as_tuples[0]:indices_as_tuples[1]].values\n",
    "    print(\"df_as_np_array shape: {}\".format(train_df_as_np_array.shape))\n",
    "    print(\"file: {}\".format(file))\n",
    "    identifier = str(str(file)[-8:-6]) #eg 1a 2a etc. #you can use a regex. \n",
    "    print(\"identifier: {}\".format(identifier))\n",
    "\n",
    "    #j is sequence id. #i is the sequence number within the csv. \n",
    "    np_train_path = processed_path + \"/sequence_\" + identifier + \"_\" + str(j) + \"_\" + str(i) + \".npy\"\n",
    "    np_label_train_path = processed_path + \"/sequence_\" + identifier + \"_\" + str(j) + \"_\" + str(i) + \"_label_.npy\"\n",
    "    seq_length_dict[\"sequence_\" + identifier + \"_\" + str(j) + \"_\" + str(i)] = indices_as_tuples[1] - indices_as_tuples[0]\n",
    "    #seq_length_dict = json.load(open(seq_length_dict))\n",
    "    #UNCOMMENT THESE IF YOU WANT TO SAVETHE ARRAYS!!!\n",
    "    print(\"np_train_path: {}\".format(np_train_path))\n",
    "    print(\"np_label_train_path :{}\".format(np_label_train_path))\n",
    "    #np.save(np_train_path,train_df_as_np_array)\n",
    "    #np.save(np_label_train_path,label_train_df_as_np_array)\n",
    "    j= j + 1\n",
    "        \n",
    "print(seq_length_dict)\n",
    "json.dump(seq_length_dict, open(seq_length_dict_filename, 'wb'))"
   ]
  }
 ],
 "metadata": {
  "kernelspec": {
   "display_name": "Python 2",
   "language": "python",
   "name": "python2"
  },
  "language_info": {
   "codemirror_mode": {
    "name": "ipython",
    "version": 2
   },
   "file_extension": ".py",
   "mimetype": "text/x-python",
   "name": "python",
   "nbconvert_exporter": "python",
   "pygments_lexer": "ipython2",
   "version": "2.7.12"
  }
 },
 "nbformat": 4,
 "nbformat_minor": 2
}
