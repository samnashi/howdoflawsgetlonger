{
 "cells": [
  {
   "cell_type": "code",
   "execution_count": 4,
   "metadata": {},
   "outputs": [
    {
     "name": "stdout",
     "output_type": "stream",
     "text": [
      "<class 'sklearn.ensemble.forest.ExtraTreesRegressor'>\n",
      "<class 'sklearn.ensemble.forest.ExtraTreesRegressor'>\n",
      "ExtraTreeRegressor(criterion='mse', max_depth=None, max_features='auto',\n",
      "          max_leaf_nodes=None, min_impurity_decrease=0.0,\n",
      "          min_impurity_split=None, min_samples_leaf=1, min_samples_split=2,\n",
      "          min_weight_fraction_leaf=0.0, random_state=None,\n",
      "          splitter='random')\n"
     ]
    }
   ],
   "source": [
    "from __future__ import print_function\n",
    "import numpy as np\n",
    "from random import shuffle\n",
    "import matplotlib.lines as mlines\n",
    "import matplotlib.pyplot as plt\n",
    "from keras.models import Sequential, Model\n",
    "from keras.utils import plot_model\n",
    "from keras.layers import Dense, LSTM, GRU, Flatten, Input, Reshape, TimeDistributed, Bidirectional, Dense, Dropout, \\\n",
    "    Activation, Flatten, Conv1D, MaxPooling1D, GlobalAveragePooling1D, AveragePooling1D, concatenate, BatchNormalization\n",
    "from keras.initializers import lecun_normal, glorot_normal\n",
    "from keras.regularizers import l1, l1_l2, l2\n",
    "from keras import metrics\n",
    "from keras.optimizers import adam, rmsprop\n",
    "import pandas as pd\n",
    "import scipy.io as sio\n",
    "from keras.callbacks import CSVLogger, TerminateOnNaN\n",
    "import os\n",
    "import csv\n",
    "import json\n",
    "import scattergro_utils as sg_utils\n",
    "import sklearn.preprocessing\n",
    "import h5py\n",
    "from sklearn.ensemble import RandomForestRegressor, ExtraTreesRegressor\n",
    "from sklearn.linear_model import LinearRegression, Ridge\n",
    "from sklearn.preprocessing import StandardScaler, MinMaxScaler, RobustScaler\n",
    "from sklearn.metrics import mean_squared_error, mean_absolute_error, median_absolute_error, explained_variance_score, \\\n",
    "    r2_score\n",
    "from sklearn.kernel_ridge import KernelRidge\n",
    "import time\n",
    "\n",
    "#https://github.com/fchollet/keras/issues/1671 how to set weights \n",
    "\n",
    "if __name__ == \"__main__\":\n",
    "    #aux_reg_regressor = RandomForestRegressor(n_estimators=5,criterion='mse',n_jobs=2,warm_start=True)\n",
    "    #aux_reg_regressor = Ridge()\n",
    "    #aux_reg_regressor = LinearRegression()\n",
    "    #aux_reg_regressor = KernelRidge(alpha=1,kernel='polynomial',gamma=1.0e-3,)\n",
    "    aux_reg_regressor = ExtraTreesRegressor(n_estimators=5,criterion='mse',n_jobs=2,warm_start=True)\n",
    "    print(type(aux_reg_regressor))\n",
    "    #print(str(type(aux_reg_regressor)))\n",
    "    print(aux_reg_regressor.__class__)\n",
    "    print(aux_reg_regressor.base_estimator)\n",
    "\n",
    "    \n",
    "\n"
   ]
  },
  {
   "cell_type": "code",
   "execution_count": null,
   "metadata": {
    "collapsed": true
   },
   "outputs": [],
   "source": []
  }
 ],
 "metadata": {
  "kernelspec": {
   "display_name": "Python 2",
   "language": "python",
   "name": "python2"
  },
  "language_info": {
   "codemirror_mode": {
    "name": "ipython",
    "version": 2
   },
   "file_extension": ".py",
   "mimetype": "text/x-python",
   "name": "python",
   "nbconvert_exporter": "python",
   "pygments_lexer": "ipython2",
   "version": "2.7.12"
  }
 },
 "nbformat": 4,
 "nbformat_minor": 2
}
